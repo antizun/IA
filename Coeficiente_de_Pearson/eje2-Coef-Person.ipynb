{
 "cells": [
  {
   "cell_type": "code",
   "execution_count": 2,
   "id": "d6b1bcb6",
   "metadata": {},
   "outputs": [
    {
     "name": "stdout",
     "output_type": "stream",
     "text": [
      "78\n",
      "150\n",
      "714\n",
      "2468\n",
      "1192\n",
      "0.145\n"
     ]
    }
   ],
   "source": [
    "from math import sqrt\n",
    "def Pearson(X,Y):\n",
    "    xSum=sum(X)\n",
    "    print(xSum)\n",
    "    ySum=sum(Y)\n",
    "    print(ySum)\n",
    "    xSqSum=sum([x**2 for x in X])\n",
    "    print(xSqSum)\n",
    "    ySqSum=sum([y**2 for y in Y])\n",
    "    print(ySqSum)\n",
    "    xy=sum([x*y for x,y in zip(X,Y)])\n",
    "    print(xy)\n",
    "    n=len(X)\n",
    "    num=(n*xy-xSum*ySum)\n",
    "    den=sqrt((n*xSqSum-xSum**2)*(n*ySqSum-ySum**2))\n",
    "    return num/den\n",
    "P=[15,  12,  8,   8,   7,   7,   7,   6,   5,   3]\n",
    "H=[10,  25,  17,  11,  13,  17,  20,  13,  9,   15]\n",
    "c=Pearson(P,H)\n",
    "print (\"%.3f\" % c)\n"
   ]
  },
  {
   "cell_type": "code",
   "execution_count": null,
   "id": "f3872438",
   "metadata": {},
   "outputs": [],
   "source": []
  }
 ],
 "metadata": {
  "kernelspec": {
   "display_name": "Python 3",
   "language": "python",
   "name": "python3"
  },
  "language_info": {
   "codemirror_mode": {
    "name": "ipython",
    "version": 3
   },
   "file_extension": ".py",
   "mimetype": "text/x-python",
   "name": "python",
   "nbconvert_exporter": "python",
   "pygments_lexer": "ipython3",
   "version": "3.7.10"
  }
 },
 "nbformat": 4,
 "nbformat_minor": 5
}
