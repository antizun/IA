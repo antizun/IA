{
 "cells": [
  {
   "cell_type": "code",
   "execution_count": 165,
   "id": "11b2ec9a",
   "metadata": {},
   "outputs": [
    {
     "name": "stdout",
     "output_type": "stream",
     "text": [
      "1\n",
      "3.60\n"
     ]
    },
    {
     "data": {
      "image/png": "[encoded data removed]",
      "text/plain": [
       "<Figure size 432x288 with 1 Axes>"
      ]
     },
     "metadata": {
      "needs_background": "light"
     },
     "output_type": "display_data"
    }
   ],
   "source": [
    "import math\n",
    "import os\n",
    "import random\n",
    "import re\n",
    "import sys\n",
    "import matplotlib.pyplot as plt\n",
    "def read_test_data():\n",
    "    f = open ('./trainingdata.txt','r')\n",
    "    lineas = f.readlines()\n",
    "    test = [[m.strip().split() for m in n] for n in [linea.strip().split(\"\\n\") for linea in lineas]]\n",
    "    f.close()\n",
    "    return test\n",
    "\n",
    "def mean(L):\n",
    "    return sum(L)/len(L)\n",
    "\n",
    "def regresion(a,b,x):\n",
    "    return b*x + a\n",
    "\n",
    "if __name__ == '__main__':\n",
    "    timeCharged = float(input().strip())\n",
    "    \n",
    "    test = read_test_data()\n",
    "    \n",
    "    x_train=[]\n",
    "    y_train=[]\n",
    "    \n",
    "    \n",
    "    n = len(test)\n",
    "\n",
    "    \n",
    "    for i in range(n):\n",
    "        linea=str(test[i]).replace('[','').replace(\"'\",'').replace(']','')\n",
    "        t = [float(j) for j in linea.strip().split(\",\")]\n",
    "        x_train.append(t[0])\n",
    "        y_train.append(t[1])\n",
    "    \n",
    "    \n",
    "    xm=mean(x_train)\n",
    "    ym=mean(y_train)\n",
    "    \n",
    "    b=sum([(x-xm)*(y-ym) for x,y in zip(x_train,y_train)])/sum([(x-xm)**2 for x in x_train])\n",
    "    a = ym-b*xm\n",
    "    \n",
    "\n",
    "    \n",
    "    plt.scatter(x_train,y_train)\n",
    "    \n",
    "\n",
    "    \n",
    "    score = regresion(round(a,2),round(b,2),timeCharged)\n",
    "    print(\"%.2f\" % score)\n",
    "\n",
    "    \n",
    "     \n",
    "\n"
   ]
  }
 ],
 "metadata": {
  "kernelspec": {
   "display_name": "Python 3",
   "language": "python",
   "name": "python3"
  },
  "language_info": {
   "codemirror_mode": {
    "name": "ipython",
    "version": 3
   },
   "file_extension": ".py",
   "mimetype": "text/x-python",
   "name": "python",
   "nbconvert_exporter": "python",
   "pygments_lexer": "ipython3",
   "version": "3.7.10"
  }
 },
 "nbformat": 4,
 "nbformat_minor": 5
}
