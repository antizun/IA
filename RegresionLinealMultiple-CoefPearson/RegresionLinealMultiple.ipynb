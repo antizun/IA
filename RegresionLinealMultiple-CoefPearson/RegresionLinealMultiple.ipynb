{
 "cells": [
  {
   "cell_type": "code",
   "execution_count": 1,
   "id": "00e27792",
   "metadata": {},
   "outputs": [
    {
     "name": "stdout",
     "output_type": "stream",
     "text": [
      "2 7\n"
     ]
    }
   ],
   "source": [
    "# Enter your code here. Read input from STDIN. Print output to STDOUT\n",
    "from sklearn import svm\n",
    "#from sklearn import linear_model\n",
    "from sklearn.linear_model import LinearRegression\n",
    "import numpy as np\n",
    "\n",
    "first_line = input()\n",
    "F = int(first_line.split(' ')[0])\n",
    "N = int(first_line.split(' ')[1])"
   ]
  },
  {
   "cell_type": "code",
   "execution_count": 30,
   "id": "6de94cb5",
   "metadata": {},
   "outputs": [],
   "source": [
    "import matplotlib.pyplot as plt\n",
    "from scipy import stats\n"
   ]
  },
  {
   "cell_type": "code",
   "execution_count": 11,
   "id": "9120693c",
   "metadata": {},
   "outputs": [
    {
     "name": "stdout",
     "output_type": "stream",
     "text": [
      "0.18 0.89 109.85\n",
      "1.0 0.26 155.72\n",
      "0.92 0.11 137.66\n",
      "0.07 0.37 76.17\n",
      "0.85 0.16 139.75\n",
      "0.99 0.41 162.6\n",
      "0.87 0.47 151.77\n"
     ]
    }
   ],
   "source": [
    "x = []\n",
    "y = []\n",
    "for i in range(0, N):\n",
    "    line = input().split(' ')\n",
    "    xi = [float(l) for l in line[0:2]]\n",
    "    yi = float(line[F])\n",
    "    x.append(xi)\n",
    "    y.append(yi)\n"
   ]
  },
  {
   "cell_type": "code",
   "execution_count": 12,
   "id": "8b2b56d3",
   "metadata": {},
   "outputs": [
    {
     "name": "stdout",
     "output_type": "stream",
     "text": [
      "[[0.18, 0.89], [1.0, 0.26], [0.92, 0.11], [0.07, 0.37], [0.85, 0.16], [0.99, 0.41], [0.87, 0.47]]\n",
      "[109.85, 155.72, 137.66, 76.17, 139.75, 162.6, 151.77]\n",
      "[[0.18 0.89]\n",
      " [1.   0.26]\n",
      " [0.92 0.11]\n",
      " [0.07 0.37]\n",
      " [0.85 0.16]\n",
      " [0.99 0.41]\n",
      " [0.87 0.47]]\n",
      "[109.85 155.72 137.66  76.17 139.75 162.6  151.77]\n"
     ]
    }
   ],
   "source": [
    "print(x)\n",
    "print(y)\n",
    "\n",
    "x = np.array(x)\n",
    "y = np.array(y)\n",
    "\n",
    "print(x)\n",
    "print(y)"
   ]
  },
  {
   "cell_type": "code",
   "execution_count": 14,
   "id": "b6f93a39",
   "metadata": {},
   "outputs": [
    {
     "name": "stdout",
     "output_type": "stream",
     "text": [
      "[0.18 0.89]\n",
      "109.85\n"
     ]
    }
   ],
   "source": [
    "print(x[0])\n",
    "print(y[0])"
   ]
  },
  {
   "cell_type": "code",
   "execution_count": 22,
   "id": "b97a4ca8",
   "metadata": {
    "scrolled": true
   },
   "outputs": [
    {
     "name": "stdout",
     "output_type": "stream",
     "text": [
      "4\n",
      "0.49 0.18\n",
      "0.57 0.83\n",
      "0.56 0.64\n",
      "0.76 0.18\n"
     ]
    }
   ],
   "source": [
    "clf = linear_model.LinearRegression()\n",
    "clf.fit(x, y)\n",
    "\n",
    "T = int(input())\n",
    "t = []\n",
    "\n",
    "for i in range(0, T):\n",
    "    line = input().split(' ')\n",
    "    ti = [float(l) for l in line[0:F]]\n",
    "    t.append(ti)\n",
    "t = np.array(t)\n",
    "    "
   ]
  },
  {
   "cell_type": "code",
   "execution_count": 29,
   "id": "137292da",
   "metadata": {},
   "outputs": [
    {
     "name": "stdout",
     "output_type": "stream",
     "text": [
      "[90.69331739 46.46296549]\n",
      "52.41149904506085\n"
     ]
    }
   ],
   "source": [
    "print(clf.coef_)\n",
    "print(clf.intercept_)"
   ]
  },
  {
   "cell_type": "code",
   "execution_count": 23,
   "id": "ea58c4e0",
   "metadata": {},
   "outputs": [
    {
     "name": "stdout",
     "output_type": "stream",
     "text": [
      "[[0.49 0.18]\n",
      " [0.57 0.83]\n",
      " [0.56 0.64]\n",
      " [0.76 0.18]]\n"
     ]
    }
   ],
   "source": [
    "print(t)"
   ]
  },
  {
   "cell_type": "code",
   "execution_count": 36,
   "id": "81fffeee",
   "metadata": {},
   "outputs": [
    {
     "name": "stdout",
     "output_type": "stream",
     "text": [
      "105.21455835106944\n",
      "142.67095130729922\n",
      "132.93605469124694\n",
      "129.70175404502453\n"
     ]
    }
   ],
   "source": [
    "model = clf.predict(t)\n",
    "for i in clf.predict(t):\n",
    "    print(i)"
   ]
  }
 ],
 "metadata": {
  "kernelspec": {
   "display_name": "Python 3",
   "language": "python",
   "name": "python3"
  },
  "language_info": {
   "codemirror_mode": {
    "name": "ipython",
    "version": 3
   },
   "file_extension": ".py",
   "mimetype": "text/x-python",
   "name": "python",
   "nbconvert_exporter": "python",
   "pygments_lexer": "ipython3",
   "version": "3.7.10"
  }
 },
 "nbformat": 4,
 "nbformat_minor": 5
}
