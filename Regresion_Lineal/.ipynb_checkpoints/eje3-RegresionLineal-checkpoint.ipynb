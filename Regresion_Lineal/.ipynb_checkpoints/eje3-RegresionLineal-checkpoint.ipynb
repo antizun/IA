{
 "cells": [
  {
   "cell_type": "code",
   "execution_count": 15,
   "id": "153ff432",
   "metadata": {},
   "outputs": [
    {
     "name": "stdout",
     "output_type": "stream",
     "text": [
      "0.208\n"
     ]
    }
   ],
   "source": [
    "import re\n",
    "from math import *\n",
    "\n",
    "#X_prev = \"Physics Scores  15  12  8   8   7   7   7   6   5   3\"\n",
    "#Y_prev = \"History Scores  10  25  17  11  13  17  20  13  9   15\"\n",
    "\n",
    "X_prev = input()\n",
    "Y_prev = input()\n",
    "\n",
    "p_a=re.findall(r'\\d+',X_prev)\n",
    "h_a=re.findall(r'\\d+',Y_prev)\n",
    "\n",
    "p = [int(numeric_string) for numeric_string in p_a]\n",
    "h = [int(numeric_string) for numeric_string in h_a]\n",
    "#p = [15,12,8,8,7,7,7,6,5,3]\n",
    "#h = [10,25,17,11,13,17,20,13,9,15]\n",
    "n = len(p)\n",
    "\n",
    "pm = float(sum(p))/float(n)\n",
    "hm = float(sum(h))/float(n)\n",
    "u = [a - pm for a in p]\n",
    "v = [a - hm for a in h]\n",
    "uu = [a*a for a in u]\n",
    "vv = [a*a for a in v]\n",
    "uv = [a*b for a,b in zip(u,v)]\n",
    "\n",
    "cor = sum(uv)/sqrt(sum(uu)*sum(vv))\n",
    "sp = sqrt(sum(uu)/n)\n",
    "sh = sqrt(sum(vv)/n)\n",
    "    \n",
    "print(round(float(cor*sh)/float(sp),3))"
   ]
  },
  {
   "cell_type": "code",
   "execution_count": null,
   "id": "f96a683c",
   "metadata": {},
   "outputs": [],
   "source": []
  }
 ],
 "metadata": {
  "kernelspec": {
   "display_name": "Python 3",
   "language": "python",
   "name": "python3"
  },
  "language_info": {
   "codemirror_mode": {
    "name": "ipython",
    "version": 3
   },
   "file_extension": ".py",
   "mimetype": "text/x-python",
   "name": "python",
   "nbconvert_exporter": "python",
   "pygments_lexer": "ipython3",
   "version": "3.7.10"
  }
 },
 "nbformat": 4,
 "nbformat_minor": 5
}
