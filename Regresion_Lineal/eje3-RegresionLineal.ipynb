{
 "cells": [
  {
   "cell_type": "code",
   "execution_count": 5,
   "id": "36ea1e4d",
   "metadata": {},
   "outputs": [
    {
     "name": "stdout",
     "output_type": "stream",
     "text": [
      "0.208\n"
     ]
    }
   ],
   "source": [
    "import re\n",
    "from math import *\n",
    "\n",
    "#X_prev = \"Physics Scores  15  12  8   8   7   7   7   6   5   3\"\n",
    "#Y_prev = \"History Scores  10  25  17  11  13  17  20  13  9   15\"\n",
    "\n",
    "#X_prev = input()\n",
    "#Y_prev = input()\n",
    "\n",
    "#p_a=re.findall(r'\\d+',X_prev)\n",
    "#h_a=re.findall(r'\\d+',Y_prev)\n",
    "\n",
    "#p = [int(numeric_string) for numeric_string in p_a]\n",
    "#h = [int(numeric_string) for numeric_string in h_a]\n",
    "\n",
    "\n",
    "\n",
    "p = [15,12,8,8,7,7,7,6,5,3]\n",
    "h = [10,25,17,11,13,17,20,13,9,15]\n",
    "\n",
    "\n",
    "\n",
    "\n",
    "\n",
    "\n",
    "n = len(p)\n",
    "\n",
    "pm = float(sum(p))/float(n)\n",
    "hm = float(sum(h))/float(n)\n",
    "u = [a - pm for a in p]\n",
    "v = [a - hm for a in h]\n",
    "uu = [a*a for a in u]\n",
    "vv = [a*a for a in v]\n",
    "uv = [a*b for a,b in zip(u,v)]\n",
    "\n",
    "cor = sum(uv)/sqrt(sum(uu)*sum(vv))\n",
    "sp = sqrt(sum(uu)/n)\n",
    "sh = sqrt(sum(vv)/n)\n",
    "    \n",
    "print(round(float(cor*sh)/float(sp),3))"
   ]
  },
  {
   "cell_type": "markdown",
   "id": "87b8c7f2",
   "metadata": {},
   "source": [
    "Ejemplo 2 de Regresion Lineal\n",
    "\n"
   ]
  },
  {
   "cell_type": "code",
   "execution_count": 6,
   "id": "4813827a",
   "metadata": {},
   "outputs": [],
   "source": [
    "#estudiantes, edades/vs conexion horas de internet\n",
    "E = [15,14,17,16,15,16,15,13,17,16,16]\n",
    "H = [2,0,3,4,3,4,3,1,4,3,5]\n"
   ]
  },
  {
   "cell_type": "code",
   "execution_count": 7,
   "id": "e899efb4",
   "metadata": {},
   "outputs": [
    {
     "data": {
      "image/png": "[encoded data removed]",
      "text/plain": [
       "<Figure size 432x288 with 1 Axes>"
      ]
     },
     "metadata": {
      "needs_background": "light"
     },
     "output_type": "display_data"
    }
   ],
   "source": [
    "#grafico de dispersion\n",
    "import matplotlib.pyplot as plt\n",
    "plt.scatter(E, H)\n",
    "plt.show()"
   ]
  },
  {
   "cell_type": "markdown",
   "id": "972fd069",
   "metadata": {},
   "source": [
    "hay que encontrar el modelo a través de la forma y = a +bx donde a es el intercepto, b la pendiente de la línea de regresión (coeficiente de regresión)"
   ]
  },
  {
   "cell_type": "code",
   "execution_count": 8,
   "id": "abfdbdb5",
   "metadata": {},
   "outputs": [],
   "source": [
    "#encontramos la media\n",
    "n = len(E)\n",
    "Em = float(sum(E))/float(n)\n",
    "Hm = float(sum(H))/float(n)"
   ]
  },
  {
   "cell_type": "code",
   "execution_count": 10,
   "id": "17f26bef",
   "metadata": {},
   "outputs": [
    {
     "name": "stdout",
     "output_type": "stream",
     "text": [
      "[225, 196, 289, 256, 225, 256, 225, 169, 289, 256, 256]\n",
      "[30, 0, 51, 64, 45, 64, 45, 13, 68, 48, 80]\n"
     ]
    }
   ],
   "source": [
    "e_2 = [a*a for a in E]\n",
    "print(e_2)\n",
    "eh = [a*b for a,b in zip(E,H)]\n",
    "print(eh)"
   ]
  },
  {
   "cell_type": "code",
   "execution_count": 31,
   "id": "feb2a3f8",
   "metadata": {},
   "outputs": [
    {
     "name": "stdout",
     "output_type": "stream",
     "text": [
      "0.9135802469135802\n",
      "-11.209876543209877\n"
     ]
    }
   ],
   "source": [
    "#encontramos b\n",
    "b=(n*sum(eh)-sum(E)*sum(H))/(n*sum(e_2)-sum(E)**2)\n",
    "#encontramos a\n",
    "print(b)\n",
    "a = Hm-b*Em\n",
    "print(a)"
   ]
  },
  {
   "cell_type": "code",
   "execution_count": 32,
   "id": "896eed88",
   "metadata": {},
   "outputs": [
    {
     "data": {
      "image/png": "[encoded data removed]",
      "text/plain": [
       "<Figure size 432x288 with 1 Axes>"
      ]
     },
     "metadata": {
      "needs_background": "light"
     },
     "output_type": "display_data"
    }
   ],
   "source": [
    "#graficamos el modelo\n",
    "\n",
    "def myfunc(x):\n",
    "  return b * x + a\n",
    "\n",
    "mymodel = list(map(myfunc, E))\n",
    "plt.scatter(E, H)\n",
    "plt.plot(E, mymodel)\n",
    "plt.show()"
   ]
  },
  {
   "cell_type": "code",
   "execution_count": 36,
   "id": "7c1c8236",
   "metadata": {},
   "outputs": [
    {
     "name": "stdout",
     "output_type": "stream",
     "text": [
      "0.914\n"
     ]
    }
   ],
   "source": [
    "X = [15,14,17,16,15,16,15,13,17,16,16]\n",
    "Y = [2,0,3,4,3,4,3,1,4,3,5]\n",
    "def mean(L):\n",
    "    return sum(L)/len(L)\n",
    "xm=mean(X)\n",
    "ym=mean(Y)\n",
    "slope=sum([(x-xm)*(y-ym) for x,y in zip(X,Y)])/sum([(x-xm)**2 for x in X])\n",
    "print(\"%.3f\" % slope)"
   ]
  },
  {
   "cell_type": "code",
   "execution_count": 37,
   "id": "2e2b5f08",
   "metadata": {},
   "outputs": [
    {
     "data": {
      "image/png": "[encoded data removed]",
      "text/plain": [
       "<Figure size 432x288 with 1 Axes>"
      ]
     },
     "metadata": {
      "needs_background": "light"
     },
     "output_type": "display_data"
    }
   ],
   "source": [
    "def myfunc(x):\n",
    "  return slope * x + a\n",
    "\n",
    "mymodel = list(map(myfunc, E))\n",
    "plt.scatter(E, H)\n",
    "plt.plot(E, mymodel)\n",
    "plt.show()"
   ]
  }
 ],
 "metadata": {
  "kernelspec": {
   "display_name": "Python 3",
   "language": "python",
   "name": "python3"
  },
  "language_info": {
   "codemirror_mode": {
    "name": "ipython",
    "version": 3
   },
   "file_extension": ".py",
   "mimetype": "text/x-python",
   "name": "python",
   "nbconvert_exporter": "python",
   "pygments_lexer": "ipython3",
   "version": "3.7.10"
  }
 },
 "nbformat": 4,
 "nbformat_minor": 5
}
