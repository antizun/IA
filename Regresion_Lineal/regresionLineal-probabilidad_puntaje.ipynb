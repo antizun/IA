{
 "cells": [
  {
   "cell_type": "code",
   "execution_count": 11,
   "id": "f5ef7944",
   "metadata": {},
   "outputs": [
    {
     "name": "stdout",
     "output_type": "stream",
     "text": [
      "13.375\n",
      "0.208\n"
     ]
    }
   ],
   "source": [
    "from math import *\n",
    "#X:Fisica\n",
    "#Y:Historia\n",
    "\n",
    "X = [15,12,8,8,7,7,7,6,5,3]\n",
    "Y = [10,25,17,11,13,17,20,13,9,15]\n",
    "def mean(L):\n",
    "    return sum(L)/len(L)\n",
    "xm=mean(X)\n",
    "ym=mean(Y)\n",
    "\n",
    "b=sum([(x-xm)*(y-ym) for x,y in zip(X,Y)])/sum([(x-xm)**2 for x in X])\n",
    "a = ym-b*xm\n",
    "print(\"%.3f\" % a)\n",
    "print(\"%.3f\" % b)\n",
    "\n"
   ]
  },
  {
   "cell_type": "code",
   "execution_count": 15,
   "id": "df4617e6",
   "metadata": {},
   "outputs": [
    {
     "data": {
      "image/png": "[encoded data removed]",
      "text/plain": [
       "<Figure size 432x288 with 1 Axes>"
      ]
     },
     "metadata": {
      "needs_background": "light"
     },
     "output_type": "display_data"
    },
    {
     "name": "stdout",
     "output_type": "stream",
     "text": [
      "15.5\n"
     ]
    }
   ],
   "source": [
    "import matplotlib.pyplot as plt\n",
    "def myfunc(x):\n",
    "  return b * x + a\n",
    "\n",
    "mymodel = list(map(myfunc, X))\n",
    "plt.scatter(X,Y)\n",
    "plt.plot(X, mymodel)\n",
    "plt.show()\n",
    "\n",
    "score = myfunc(10)\n",
    "print(\"%.1f\" % score)"
   ]
  }
 ],
 "metadata": {
  "kernelspec": {
   "display_name": "Python 3",
   "language": "python",
   "name": "python3"
  },
  "language_info": {
   "codemirror_mode": {
    "name": "ipython",
    "version": 3
   },
   "file_extension": ".py",
   "mimetype": "text/x-python",
   "name": "python",
   "nbconvert_exporter": "python",
   "pygments_lexer": "ipython3",
   "version": "3.7.10"
  }
 },
 "nbformat": 4,
 "nbformat_minor": 5
}
