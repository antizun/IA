{
 "cells": [
  {
   "cell_type": "code",
   "execution_count": 1,
   "id": "01e84682",
   "metadata": {},
   "outputs": [],
   "source": [
    "# Enter your code here. Read input from STDIN. Print output to STDOUT\n",
    "from sklearn.linear_model import LinearRegression\n",
    "from sklearn.preprocessing import PolynomialFeatures\n",
    "import numpy as np\n",
    "\n"
   ]
  },
  {
   "cell_type": "code",
   "execution_count": 4,
   "id": "98f628cb",
   "metadata": {},
   "outputs": [
    {
     "name": "stdout",
     "output_type": "stream",
     "text": [
      "1 2\n",
      "5.62 5.62\n",
      "5.62 5.62\n",
      "[[5.62], [5.62]]\n"
     ]
    }
   ],
   "source": [
    "#strip elimina espacios en blanco al inicio-fin\n",
    "#split string.split(separator, maxsplit)\n",
    "\n",
    "f, n = [int(i) for i in input().strip().split()]\n",
    "x_train = []\n",
    "y_train = []\n",
    "for i in range(n):\n",
    "    t = [float(j) for j in input().strip().split()]\n",
    "    x_train.append(t[0:f])\n",
    "    y_train.append(t[f])\n",
    "\n",
    "print(x_train)"
   ]
  },
  {
   "cell_type": "code",
   "execution_count": 5,
   "id": "d3dced5f",
   "metadata": {},
   "outputs": [],
   "source": []
  },
  {
   "cell_type": "code",
   "execution_count": 4,
   "id": "5785c2d7",
   "metadata": {},
   "outputs": [
    {
     "name": "stdout",
     "output_type": "stream",
     "text": [
      "4\n",
      "0.05 0.54\n",
      "0.05 0.54\n",
      "0.05 0.54\n",
      "0.05 0.54\n"
     ]
    }
   ],
   "source": [
    "t = int(input().strip())\n",
    "x_test = []\n",
    "for i in range(t):\n",
    "    t = [float(j) for j in input().strip().split()]\n",
    "    x_test.append(t[0:f])\n",
    "\n"
   ]
  },
  {
   "cell_type": "code",
   "execution_count": 5,
   "id": "70c6026f",
   "metadata": {},
   "outputs": [
    {
     "name": "stdout",
     "output_type": "stream",
     "text": [
      "568.0181412649572\n",
      "568.0181412649572\n",
      "568.0181412649572\n",
      "568.0181412649572\n"
     ]
    },
    {
     "name": "stderr",
     "output_type": "stream",
     "text": [
      "C:\\Users\\Usuario\\anaconda3\\envs\\tf\\lib\\site-packages\\sklearn\\utils\\validation.py:70: FutureWarning: Pass interaction_only=False, include_bias=False as keyword args. From version 0.25 passing these as positional arguments will result in an error\n",
      "  FutureWarning)\n"
     ]
    }
   ],
   "source": [
    "#Fits transformer to X and y with optional parameters fit_params and returns a transformed version of X.\n",
    "\n",
    "poly = PolynomialFeatures(3, False, False)\n",
    "x_train = poly.fit_transform(x_train)\n",
    "x_test = poly.fit_transform(x_test)\n",
    "\n",
    "regressor = LinearRegression()\n",
    "regressor.fit(x_train, y_train)\n",
    "y_test = regressor.predict(x_test)\n",
    "for i in y_test:\n",
    "    print(i)"
   ]
  }
 ],
 "metadata": {
  "kernelspec": {
   "display_name": "Python 3",
   "language": "python",
   "name": "python3"
  },
  "language_info": {
   "codemirror_mode": {
    "name": "ipython",
    "version": 3
   },
   "file_extension": ".py",
   "mimetype": "text/x-python",
   "name": "python",
   "nbconvert_exporter": "python",
   "pygments_lexer": "ipython3",
   "version": "3.7.10"
  }
 },
 "nbformat": 4,
 "nbformat_minor": 5
}
