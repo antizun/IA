{
 "cells": [
  {
   "cell_type": "code",
   "execution_count": 1,
   "id": "a4c25d45",
   "metadata": {},
   "outputs": [],
   "source": [
    "import numpy as np\n",
    "from sklearn import linear_model\n",
    "\n",
    "def read_ints():\n",
    "    return [int(x) for x in input().split(\" \")]\n",
    "\n",
    "def read_floats():\n",
    "    return [float(x) for x in input().split(\" \")]\n",
    "\n",
    "def polynomial_features(x, order):\n",
    "    x = np.asarray(x).T[np.newaxis]\n",
    "    n = x.shape[1]\n",
    "    power_matrix = np.tile(np.arange(order + 1), (n, 1)).T[..., np.newaxis]\n",
    "    X = np.power(x, power_matrix)\n",
    "    I = np.indices((order + 1, ) * n).reshape((n, (order + 1) ** n)).T\n",
    "    F = np.product(np.diagonal(X[I], 0, 1, 2), axis=2)\n",
    "    return F.T\n",
    "\n",
    "def make_features(X):\n",
    "    return polynomial_features(X, 3)\n",
    "\n",
    "def main():\n",
    "    line0 = read_ints()\n",
    "    num_features, num_samples = line0[0], line0[1]\n",
    "    dataset = np.array([read_floats() for i in range(num_samples)])\n",
    "\n",
    "    #train_set_size = 0.85*num_samples\n",
    "    X = dataset[:,:num_features]\n",
    "    X = make_features(X)\n",
    "    y = dataset[:,-1]\n",
    "#    X_train = X[:train_set_size,:]\n",
    "#    X_test = X[train_set_size:,:]\n",
    "#    y_train = y[:train_set_size]\n",
    "#    y_test = y[train_set_size:]\n",
    "    pred_set_size = read_ints()[0]\n",
    "    pred_set = np.array([read_floats() for i in range(pred_set_size)])\n",
    "    pred_set = make_features(pred_set)\n",
    "    regr = linear_model.BayesianRidge()\n",
    "    regr.fit(X, y)\n",
    "\n",
    "    predicted = regr.predict(pred_set)\n",
    "\n",
    "    for price in predicted:\n",
    "        print(\"%.2f\" % price)\n"
   ]
  },
  {
   "cell_type": "code",
   "execution_count": 2,
   "id": "13a57f7b",
   "metadata": {},
   "outputs": [
    {
     "name": "stdout",
     "output_type": "stream",
     "text": [
      "2 10\n",
      "0.44 0.68 511.14\n",
      "0.99 0.23 717.1\n",
      "0.84 0.29 607.91\n",
      "0.28 0.45 270.4\n",
      "0.07 0.83 289.88\n",
      "0.66 0.8 830.85\n",
      "0.73 0.92 1038.09\n",
      "0.57 0.43 455.19\n",
      "0.43 0.89 640.17\n",
      "0.27 0.95 511.06\n",
      "4\n",
      "0.05 0.54\n",
      "0.91 0.91\n",
      "0.31 0.76\n",
      "0.51 0.31\n",
      "185.32\n",
      "1299.59\n",
      "445.59\n",
      "343.49\n"
     ]
    }
   ],
   "source": [
    "main()"
   ]
  },
  {
   "cell_type": "code",
   "execution_count": 107,
   "id": "8328685c",
   "metadata": {},
   "outputs": [
    {
     "name": "stdout",
     "output_type": "stream",
     "text": [
      "2 4\n",
      "2\n",
      "4\n",
      "0.44 0.68 511.14\n",
      "0.99 0.23 717.1\n",
      "0.84 0.29 607.91\n",
      "0.28 0.45 270.4\n"
     ]
    }
   ],
   "source": [
    "#Ejemplo regresion poly\n",
    "\n",
    "#from sklearn import linear_model\n",
    "from sklearn.linear_model import LinearRegression\n",
    "import numpy as np\n",
    "\n",
    "import numpy as np\n",
    "from sklearn.preprocessing import PolynomialFeatures\n",
    "from sklearn import linear_model\n",
    "\n",
    "\n",
    "first_line = input()\n",
    "F = int(first_line.split(' ')[0])\n",
    "N = int(first_line.split(' ')[1])\n",
    "\n",
    "print(F)\n",
    "print(N)\n",
    "\n",
    "x = []\n",
    "y = []\n",
    "for i in range(0, N):\n",
    "    line = input().split(' ')\n",
    "    xi = [float(l) for l in line[0:2]]\n",
    "    yi = float(line[F])\n",
    "    x.append(xi)\n",
    "    y.append(yi)\n"
   ]
  },
  {
   "cell_type": "code",
   "execution_count": 110,
   "id": "2be1f3e2",
   "metadata": {},
   "outputs": [
    {
     "name": "stdout",
     "output_type": "stream",
     "text": [
      "[[0.44 0.68]\n",
      " [0.99 0.23]\n",
      " [0.84 0.29]\n",
      " [0.28 0.45]]\n",
      "[511.14 717.1  607.91 270.4 ]\n"
     ]
    }
   ],
   "source": [
    "print(x)\n",
    "print(y)"
   ]
  },
  {
   "cell_type": "code",
   "execution_count": 111,
   "id": "3297884c",
   "metadata": {},
   "outputs": [
    {
     "name": "stdout",
     "output_type": "stream",
     "text": [
      "[[0.44 0.68]\n",
      " [0.99 0.23]\n",
      " [0.84 0.29]\n",
      " [0.28 0.45]]\n",
      "[511.14 717.1  607.91 270.4 ]\n"
     ]
    }
   ],
   "source": [
    "x = np.array(x)\n",
    "y = np.array(y)\n",
    "\n",
    "print(x)\n",
    "print(y)\n"
   ]
  },
  {
   "cell_type": "code",
   "execution_count": 138,
   "id": "31dfddc1",
   "metadata": {},
   "outputs": [
    {
     "name": "stdout",
     "output_type": "stream",
     "text": [
      "0.05 0.54\n",
      "0.91 0.91\n",
      "0.31 0.76\n",
      "0.51 0.31\n"
     ]
    }
   ],
   "source": [
    "for i in range(0, d):\n",
    "    line = input().split(' ')\n",
    "    xi = [float(l) for l in line[0:2]]\n",
    "    x_test.append(xi)"
   ]
  },
  {
   "cell_type": "code",
   "execution_count": 140,
   "id": "b4f0b03d",
   "metadata": {},
   "outputs": [
    {
     "name": "stdout",
     "output_type": "stream",
     "text": [
      "270.4\n",
      "270.4\n",
      "270.4\n",
      "270.4\n",
      "270.4\n",
      "270.4\n",
      "270.4\n",
      "270.4\n"
     ]
    }
   ],
   "source": [
    "y_r = data[:, -1]\n",
    "poly = PolynomialFeatures(degree=3)\n",
    "X_ = poly.fit_transform(x)\n",
    "x_test_ = poly.fit_transform(x_test)\n",
    "\n",
    "clf = linear_model.LinearRegression()\n",
    "clf.fit(X_, y_r)\n",
    "\n",
    "for i in clf.predict(x_test_)[:, 0]:\n",
    "    print(i)"
   ]
  }
 ],
 "metadata": {
  "kernelspec": {
   "display_name": "Python 3",
   "language": "python",
   "name": "python3"
  },
  "language_info": {
   "codemirror_mode": {
    "name": "ipython",
    "version": 3
   },
   "file_extension": ".py",
   "mimetype": "text/x-python",
   "name": "python",
   "nbconvert_exporter": "python",
   "pygments_lexer": "ipython3",
   "version": "3.7.10"
  }
 },
 "nbformat": 4,
 "nbformat_minor": 5
}
